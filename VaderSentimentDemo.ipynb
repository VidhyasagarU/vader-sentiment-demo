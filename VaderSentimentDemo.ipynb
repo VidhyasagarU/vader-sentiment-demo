{
 "cells": [
  {
   "cell_type": "code",
   "execution_count": 1,
   "metadata": {
    "ExecuteTime": {
     "end_time": "2018-06-22T10:13:04.191438Z",
     "start_time": "2018-06-22T10:13:03.869894Z"
    }
   },
   "outputs": [],
   "source": [
    "%matplotlib inline"
   ]
  },
  {
   "cell_type": "code",
   "execution_count": 2,
   "metadata": {
    "ExecuteTime": {
     "end_time": "2018-06-22T10:13:04.214012Z",
     "start_time": "2018-06-22T10:13:04.193432Z"
    }
   },
   "outputs": [],
   "source": [
    "phrases = ['We love you, Guido! You are the best ever!',\n",
    "           'Dogs are our only hope for salvation.',\n",
    "           'Mother Teresa cared for the poor.',\n",
    "           'Why is he evil? He lacks empathy.',\n",
    "           'The death of democracy is a traumatic nightmare.']"
   ]
  },
  {
   "cell_type": "code",
   "execution_count": 3,
   "metadata": {
    "ExecuteTime": {
     "end_time": "2018-06-22T10:13:06.592832Z",
     "start_time": "2018-06-22T10:13:04.216040Z"
    }
   },
   "outputs": [],
   "source": [
    "from sentiment_score import (create_scores_df, plot_sentiment_scores)"
   ]
  },
  {
   "cell_type": "code",
   "execution_count": 4,
   "metadata": {
    "ExecuteTime": {
     "end_time": "2018-06-22T10:13:06.639225Z",
     "start_time": "2018-06-22T10:13:06.594880Z"
    }
   },
   "outputs": [],
   "source": [
    "scores = create_scores_df(phrases)"
   ]
  },
  {
   "cell_type": "code",
   "execution_count": 5,
   "metadata": {
    "ExecuteTime": {
     "end_time": "2018-06-22T10:13:06.730976Z",
     "start_time": "2018-06-22T10:13:06.641077Z"
    }
   },
   "outputs": [
    {
     "data": {
      "text/html": [
       "<div>\n",
       "<style scoped>\n",
       "    .dataframe tbody tr th:only-of-type {\n",
       "        vertical-align: middle;\n",
       "    }\n",
       "\n",
       "    .dataframe tbody tr th {\n",
       "        vertical-align: top;\n",
       "    }\n",
       "\n",
       "    .dataframe thead th {\n",
       "        text-align: right;\n",
       "    }\n",
       "</style>\n",
       "<table border=\"1\" class=\"dataframe\">\n",
       "  <thead>\n",
       "    <tr style=\"text-align: right;\">\n",
       "      <th></th>\n",
       "      <th>color</th>\n",
       "      <th>compound</th>\n",
       "      <th>neg</th>\n",
       "      <th>neu</th>\n",
       "      <th>pos</th>\n",
       "      <th>text</th>\n",
       "    </tr>\n",
       "  </thead>\n",
       "  <tbody>\n",
       "    <tr>\n",
       "      <th>0</th>\n",
       "      <td>(0.0, 0.562, 0.438)</td>\n",
       "      <td>0.8745</td>\n",
       "      <td>0.000</td>\n",
       "      <td>0.438</td>\n",
       "      <td>0.562</td>\n",
       "      <td>We love you, Guido! You are the best ever!</td>\n",
       "    </tr>\n",
       "    <tr>\n",
       "      <th>1</th>\n",
       "      <td>(0.0, 0.326, 0.674)</td>\n",
       "      <td>0.4404</td>\n",
       "      <td>0.000</td>\n",
       "      <td>0.674</td>\n",
       "      <td>0.326</td>\n",
       "      <td>Dogs are our only hope for salvation.</td>\n",
       "    </tr>\n",
       "    <tr>\n",
       "      <th>2</th>\n",
       "      <td>(0.313, 0.283, 0.404)</td>\n",
       "      <td>-0.0772</td>\n",
       "      <td>0.313</td>\n",
       "      <td>0.404</td>\n",
       "      <td>0.283</td>\n",
       "      <td>Mother Teresa cared for the poor.</td>\n",
       "    </tr>\n",
       "    <tr>\n",
       "      <th>3</th>\n",
       "      <td>(0.423, 0.0, 0.577)</td>\n",
       "      <td>-0.6597</td>\n",
       "      <td>0.423</td>\n",
       "      <td>0.577</td>\n",
       "      <td>0.000</td>\n",
       "      <td>Why is he evil? He lacks empathy.</td>\n",
       "    </tr>\n",
       "    <tr>\n",
       "      <th>4</th>\n",
       "      <td>(0.603, 0.0, 0.397)</td>\n",
       "      <td>-0.8225</td>\n",
       "      <td>0.603</td>\n",
       "      <td>0.397</td>\n",
       "      <td>0.000</td>\n",
       "      <td>The death of democracy is a traumatic nightmare.</td>\n",
       "    </tr>\n",
       "  </tbody>\n",
       "</table>\n",
       "</div>"
      ],
      "text/plain": [
       "                   color  compound    neg    neu    pos  \\\n",
       "0    (0.0, 0.562, 0.438)    0.8745  0.000  0.438  0.562   \n",
       "1    (0.0, 0.326, 0.674)    0.4404  0.000  0.674  0.326   \n",
       "2  (0.313, 0.283, 0.404)   -0.0772  0.313  0.404  0.283   \n",
       "3    (0.423, 0.0, 0.577)   -0.6597  0.423  0.577  0.000   \n",
       "4    (0.603, 0.0, 0.397)   -0.8225  0.603  0.397  0.000   \n",
       "\n",
       "                                               text  \n",
       "0        We love you, Guido! You are the best ever!  \n",
       "1             Dogs are our only hope for salvation.  \n",
       "2                 Mother Teresa cared for the poor.  \n",
       "3                 Why is he evil? He lacks empathy.  \n",
       "4  The death of democracy is a traumatic nightmare.  "
      ]
     },
     "execution_count": 5,
     "metadata": {},
     "output_type": "execute_result"
    }
   ],
   "source": [
    "scores"
   ]
  },
  {
   "cell_type": "code",
   "execution_count": 6,
   "metadata": {
    "ExecuteTime": {
     "end_time": "2018-06-22T10:13:06.955488Z",
     "start_time": "2018-06-22T10:13:06.733178Z"
    }
   },
   "outputs": [
    {
     "data": {
      "image/png": "[encoded data removed]",
      "text/plain": [
       "<Figure size 432x288 with 1 Axes>"
      ]
     },
     "metadata": {},
     "output_type": "display_data"
    }
   ],
   "source": [
    "(fig, ax) = plot_sentiment_scores(scores)"
   ]
  }
 ],
 "metadata": {
  "kernelspec": {
   "display_name": "Python 3",
   "language": "python",
   "name": "python3"
  },
  "language_info": {
   "codemirror_mode": {
    "name": "ipython",
    "version": 3
   },
   "file_extension": ".py",
   "mimetype": "text/x-python",
   "name": "python",
   "nbconvert_exporter": "python",
   "pygments_lexer": "ipython3",
   "version": "3.6.5"
  }
 },
 "nbformat": 4,
 "nbformat_minor": 2
}
